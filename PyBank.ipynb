{
 "cells": [
  {
   "cell_type": "markdown",
   "metadata": {},
   "source": [
    "# PyBank Homework Solution"
   ]
  },
  {
   "cell_type": "code",
   "execution_count": 66,
   "metadata": {
    "tags": []
   },
   "outputs": [],
   "source": [
    "# Dependencies\n",
    "import csv\n",
    "from pathlib import Path\n",
    "import pandas as pd\n",
    "import numpy as np"
   ]
  },
  {
   "cell_type": "code",
   "execution_count": 67,
   "metadata": {
    "tags": []
   },
   "outputs": [],
   "source": [
    "# Files to load and output (Remember to change these)\n",
    "budget_data = Path(\"/Users/jennyvu/FINTECH_BootCamp/MONU-VIRT-FIN-PT-06-2023-U-LOLC-main/02-Python/Homework/Instructions/PyBank/Resources/budget_data.csv\")\n",
    "budget_data = pd.read_csv(budget_data)"
   ]
  },
  {
   "cell_type": "code",
   "execution_count": 68,
   "metadata": {
    "tags": []
   },
   "outputs": [
    {
     "data": {
      "text/html": [
       "<div>\n",
       "<style scoped>\n",
       "    .dataframe tbody tr th:only-of-type {\n",
       "        vertical-align: middle;\n",
       "    }\n",
       "\n",
       "    .dataframe tbody tr th {\n",
       "        vertical-align: top;\n",
       "    }\n",
       "\n",
       "    .dataframe thead th {\n",
       "        text-align: right;\n",
       "    }\n",
       "</style>\n",
       "<table border=\"1\" class=\"dataframe\">\n",
       "  <thead>\n",
       "    <tr style=\"text-align: right;\">\n",
       "      <th></th>\n",
       "      <th>Date</th>\n",
       "      <th>Profit/Losses</th>\n",
       "    </tr>\n",
       "  </thead>\n",
       "  <tbody>\n",
       "    <tr>\n",
       "      <th>0</th>\n",
       "      <td>Jan-2010</td>\n",
       "      <td>867884</td>\n",
       "    </tr>\n",
       "    <tr>\n",
       "      <th>1</th>\n",
       "      <td>Feb-2010</td>\n",
       "      <td>984655</td>\n",
       "    </tr>\n",
       "    <tr>\n",
       "      <th>2</th>\n",
       "      <td>Mar-2010</td>\n",
       "      <td>322013</td>\n",
       "    </tr>\n",
       "    <tr>\n",
       "      <th>3</th>\n",
       "      <td>Apr-2010</td>\n",
       "      <td>-69417</td>\n",
       "    </tr>\n",
       "    <tr>\n",
       "      <th>4</th>\n",
       "      <td>May-2010</td>\n",
       "      <td>310503</td>\n",
       "    </tr>\n",
       "  </tbody>\n",
       "</table>\n",
       "</div>"
      ],
      "text/plain": [
       "       Date  Profit/Losses\n",
       "0  Jan-2010         867884\n",
       "1  Feb-2010         984655\n",
       "2  Mar-2010         322013\n",
       "3  Apr-2010         -69417\n",
       "4  May-2010         310503"
      ]
     },
     "execution_count": 68,
     "metadata": {},
     "output_type": "execute_result"
    }
   ],
   "source": [
    "budget_data.head()"
   ]
  },
  {
   "cell_type": "code",
   "execution_count": 69,
   "metadata": {
    "tags": []
   },
   "outputs": [],
   "source": [
    "# Track various financial parameters\n",
    "total_months = 0\n",
    "month_of_change = []\n",
    "net_change_list = []\n",
    "greatest_increase = [\"\", 0]\n",
    "greatest_decrease = [\"\", 9999999999999999999]\n",
    "total_net = 0"
   ]
  },
  {
   "cell_type": "code",
   "execution_count": 70,
   "metadata": {
    "tags": []
   },
   "outputs": [
    {
     "name": "stderr",
     "output_type": "stream",
     "text": [
      "/Users/jennyvu/anaconda3/envs/dev/lib/python3.11/site-packages/numpy/core/fromnumeric.py:3504: RuntimeWarning: Mean of empty slice.\n",
      "  return _methods._mean(a, axis=axis, dtype=dtype,\n",
      "/Users/jennyvu/anaconda3/envs/dev/lib/python3.11/site-packages/numpy/core/_methods.py:129: RuntimeWarning: invalid value encountered in scalar divide\n",
      "  ret = ret.dtype.type(ret / rcount)\n"
     ]
    }
   ],
   "source": [
    "# Read in the CSV file\n",
    "with open('budget_data.csv', 'r') as csvfile:\n",
    "    budget_reader = csv.reader(csvfile, delimiter = \",\")\n",
    "    \n",
    "    # Read the header row\n",
    "    budget_header = next(budget_reader)\n",
    "       \n",
    "    # Initialise variables\n",
    "    total_months = 0\n",
    "    total_revenue = 0\n",
    "    previous_month = 0\n",
    "    monthly_change = 0\n",
    "    greatest_decrease = 0\n",
    "    greatest_increase = 0\n",
    "    delta_list = []\n",
    "    \n",
    "    # Read each row \n",
    "    for row in budget_reader:\n",
    "\n",
    "        # Calculate the totals\n",
    "        total_months += 1\n",
    "        total_revenue += int(row[1])\n",
    "        \n",
    "        # Assign variables\n",
    "        date = row[0]\n",
    "        pnl = int(row[1])\n",
    "\n",
    "        # Calculate the average change\n",
    "        monthly_change = pnl - previous_month\n",
    "        previous_month = pnl\n",
    "        delta_list += [monthly_change]\n",
    "        \n",
    "        # Calculate the greatest increase\n",
    "        if monthly_change > greatest_increase:\n",
    "            greatest_increase = monthly_change\n",
    "            greatest_increase_month = date\n",
    "        \n",
    "        # Calculate the greatest decrease\n",
    "        if monthly_change < greatest_decrease:\n",
    "            greatest_decrease = monthly_change\n",
    "            greatest_decrease_month = date\n",
    "\n",
    "        # Calculate average delta after the loop\n",
    "        average_delta = (np.mean(delta_list[1:]))\n",
    "        average_delta = round(average_delta, 2)\n"
   ]
  },
  {
   "cell_type": "code",
   "execution_count": 71,
   "metadata": {
    "tags": []
   },
   "outputs": [
    {
     "name": "stdout",
     "output_type": "stream",
     "text": [
      "Total Months: 86\n",
      "Total Revenue: 38382578\n",
      "Average Change: -2315.12\n",
      "Greatest Increase: Feb-2012 1926159\n",
      "Greatest Decrease: Sep-2013 -2196167\n"
     ]
    }
   ],
   "source": [
    "# Print or use the calculated values as needed\n",
    "print(\"Total Months:\", total_months)\n",
    "print(\"Total Revenue:\", total_revenue)\n",
    "print(\"Average Change:\", average_delta)\n",
    "print(\"Greatest Increase:\", greatest_increase_month, greatest_increase)\n",
    "print(\"Greatest Decrease:\", greatest_decrease_month, greatest_decrease)"
   ]
  },
  {
   "cell_type": "code",
   "execution_count": 72,
   "metadata": {
    "tags": []
   },
   "outputs": [],
   "source": [
    "# Calculate the Average Net Change\n",
    "if net_change_list:\n",
    "    net_monthly_avg = round(sum(net_change_list) / len(net_change_list), 2)\n",
    "else:\n",
    "    net_monthly_avg = 0"
   ]
  },
  {
   "cell_type": "code",
   "execution_count": 77,
   "metadata": {
    "tags": []
   },
   "outputs": [],
   "source": [
    "# Export the results to text file\n",
    "output = Path(\"budget_data_completed.txt\")\n",
    "\n",
    "# Initialize greatest_increase and greatest_decrease as tuples with default values\n",
    "greatest_increase = (\"\", 0)\n",
    "greatest_decrease = (\"\", 0)\n",
    "\n",
    "# Update greatest_increase based on my calculations:\n",
    "if monthly_change > greatest_increase[1]:\n",
    "    greatest_increase = (date, monthly_change)\n",
    "\n",
    "# Update the greatest_decrease based on my calculations:\n",
    "if monthly_change < greatest_decrease[1]:\n",
    "    greatest_decrease = (date, monthly_change)\n",
    "\n",
    "with open(output, \"w\") as txt_file:\n",
    "    txt_file.write(f\"Financial Analysis\\n\")\n",
    "    txt_file.write(f\"----------------------------\\n\")\n",
    "    txt_file.write(f\"Total Months: {total_months}\\n\")\n",
    "    txt_file.write(f\"Total: ${total_net}\\n\")\n",
    "    txt_file.write(f\"Average  Change: ${net_monthly_avg}\\n\")\n",
    "    txt_file.write(f\"Greatest Increase in Profits: {greatest_increase[0]} (${greatest_increase[1]})\\n\")\n",
    "    txt_file.write(f\"Greatest Decrease in Profits: {greatest_decrease[0]} (${greatest_decrease[1]})\\n\")\n"
   ]
  }
 ],
 "metadata": {
  "kernelspec": {
   "display_name": "Python 3 (ipykernel)",
   "language": "python",
   "name": "python3"
  },
  "language_info": {
   "codemirror_mode": {
    "name": "ipython",
    "version": 3
   },
   "file_extension": ".py",
   "mimetype": "text/x-python",
   "name": "python",
   "nbconvert_exporter": "python",
   "pygments_lexer": "ipython3",
   "version": "3.11.6"
  }
 },
 "nbformat": 4,
 "nbformat_minor": 4
}
